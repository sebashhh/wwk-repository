{
 "cells": [
  {
   "cell_type": "markdown",
   "metadata": {},
   "source": [
    "# Imports, type in the protein to be display"
   ]
  },
  {
   "cell_type": "code",
   "execution_count": 13,
   "metadata": {
    "scrolled": false
   },
   "outputs": [
    {
     "name": "stdout",
     "output_type": "stream",
     "text": [
      " Volume in drive C is Windows\n",
      " Volume Serial Number is 6AD8-7117\n",
      "\n",
      " Directory of C:\\Users\\scaparas\\WWK_Lab_22_Copy\n",
      "\n",
      "11/03/2022  05:54 PM    <DIR>          .\n",
      "11/03/2022  05:54 PM    <DIR>          ..\n",
      "11/01/2022  03:52 PM    <DIR>          .ipynb_checkpoints\n",
      "10/02/2022  07:44 PM           203,022 101m.pdb\n",
      "10/06/2022  06:24 PM       793,453,726 101m_trajectory.pdb\n",
      "10/06/2022  05:04 PM           217,864 102l.pdb\n",
      "10/12/2022  05:34 PM       790,501,726 102l_trajectory.pdb\n",
      "10/18/2022  06:56 PM           216,716 107l.pdb\n",
      "10/19/2022  04:39 AM       804,589,321 107l_trajectory.pdb\n",
      "10/27/2022  09:42 PM           165,282 134l.pdb\n",
      "10/28/2022  08:48 PM       689,264,521 134l_trajectory.pdb\n",
      "10/28/2022  12:16 PM           234,500 153l.pdb\n",
      "10/28/2022  01:36 PM           148,230 184l.pdb\n",
      "10/12/2022  05:31 PM         3,014,901 1a57.pdb\n",
      "10/14/2022  12:01 AM     1,187,176,069 1a57_trajectory.pdb\n",
      "10/13/2022  04:46 PM           276,858 1a8a.pdb\n",
      "10/14/2022  12:01 AM       590,634,921 1a8a_trajectory.pdb\n",
      "03/11/2022  03:53 PM           101,096 1ubq.pdb\n",
      "09/23/2022  02:45 PM           622,242 1yiy.pdb\n",
      "09/30/2022  12:14 PM           380,552 3hfb.pdb\n",
      "10/06/2022  06:24 PM       793,453,726 3hfb_trajectory.pdb\n",
      "09/30/2022  12:12 PM         1,573,596 HW8-Salt Molecular Dynamics Example - Copy.ipynb\n",
      "04/08/2022  02:54 PM             9,029 Molecular_Dynamics_2022.py\n",
      "02/18/2022  05:21 PM               302 nacl.pdb\n",
      "04/14/2022  02:59 PM            11,111 PDBfixer_excerpt.ipynb\n",
      "10/19/2022  04:48 AM            58,624 Protein_Workspace - Copy.ipynb\n",
      "10/28/2022  08:48 PM            64,031 Protein_Workspace.ipynb\n",
      "11/03/2022  05:54 PM            47,020 Protein_Workspace_Copy.ipynb\n",
      "              25 File(s)  5,656,418,986 bytes\n",
      "               3 Dir(s)  118,492,626,944 bytes free\n"
     ]
    }
   ],
   "source": [
    "%ls"
   ]
  },
  {
   "cell_type": "code",
   "execution_count": 31,
   "metadata": {
    "colab": {
     "base_uri": "https://localhost:8080/"
    },
    "id": "vtJyx9Ml12Cf",
    "outputId": "301910b6-4bf7-4cf5-c00e-f85ac406514d"
   },
   "outputs": [],
   "source": [
    "from simtk.openmm.app import *\n",
    "from simtk.openmm import *\n",
    "from simtk.unit import *\n",
    "from sys import stdout\n",
    "from time import time\n",
    "#type in the name of the protein you're working with (e.g. 1yiy, 3hfb)\n",
    "the_protein = '1a44'"
   ]
  },
  {
   "cell_type": "markdown",
   "metadata": {
    "id": "NYF1knJMKXx2"
   },
   "source": [
    "# PDB fixer excerpt that gets rogue PDB files working working\n",
    "Note you need to change the filename in THREE places for each new protein structure\n",
    "\n",
    "pdbfixer fixes issues with missing residues, missing H atoms, and adds in solvent\n"
   ]
  },
  {
   "cell_type": "code",
   "execution_count": 33,
   "metadata": {
    "colab": {
     "base_uri": "https://localhost:8080/",
     "height": 109
    },
    "id": "3RvgrG-8KXx2",
    "outputId": "7fd23ff4-2d9d-4e53-9992-8ecdee892461"
   },
   "outputs": [
    {
     "name": "stdout",
     "output_type": "stream",
     "text": [
      "Done writing fixed PDB\n",
      "Done adding solvent\n"
     ]
    }
   ],
   "source": [
    "from pdbfixer import PDBFixer\n",
    "from simtk.openmm.app import PDBFile\n",
    "protein_file = the_protein + '.pdb'\n",
    "fixer = PDBFixer(filename= protein_file)\n",
    "numChains = len(list(fixer.topology.chains()))  #these two lines remove all chains but the first\n",
    "fixer.removeChains(range(1, numChains)) #these two lines remove all chains but the first\n",
    "fixer.findMissingResidues()\n",
    "fixer.findNonstandardResidues()\n",
    "fixer.replaceNonstandardResidues()\n",
    "fixer.removeHeterogens(False)  #the \"false\" also removes waters\n",
    "fixer.findMissingAtoms()\n",
    "fixer.addMissingAtoms()\n",
    "#changed to 9.0\n",
    "fixer.addMissingHydrogens(7.0)\n",
    "# fixer.addSolvent(fixer.topology.getUnitCellDimensions(), positiveIon='Na+', negativeIon='Cl-', ionicStrength=0.0*molar)\n",
    "PDBFile.writeFile(fixer.topology, fixer.positions, open(protein_file, 'w'))\n",
    "print('Done writing fixed PDB')\n",
    "print('Done adding solvent')"
   ]
  },
  {
   "cell_type": "markdown",
   "metadata": {
    "id": "yzIX1E69KXx4"
   },
   "source": [
    "# Load a structure and set up the simulation parameters and data structures"
   ]
  },
  {
   "cell_type": "code",
   "execution_count": 34,
   "metadata": {
    "id": "ioSdeY1VKXx5"
   },
   "outputs": [],
   "source": [
    "protein = PDBFile(the_protein + '.pdb')\n",
    "forcefield = ForceField('amber14/protein.ff14SB.xml', 'amber14/tip3p.xml')\n",
    "# Create Modeller object  This Modeller object will be used in place of the\n",
    "# actual pdb file.\n",
    "protein_model = Modeller(protein.topology, protein.positions)\n",
    "\n",
    "# Add a tip3p waterbox solvent\n",
    "protein_model.addSolvent(forcefield, model = 'tip3p', padding = 1.5*nanometers)"
   ]
  },
  {
   "cell_type": "code",
   "execution_count": 35,
   "metadata": {
    "id": "j6nT3VmJKXx6"
   },
   "outputs": [],
   "source": [
    "# Create and setup the system/environment as well as the integrator\n",
    "# to be used in the simulation. Values will be recorded at every femtosecond\n",
    "# (1 femtosecond = 1 timestep), and the system will be set to stay at around\n",
    "# 296 Kelvin\n",
    "\n",
    "system = forcefield.createSystem(protein_model.topology, nonbondedMethod = PME, \n",
    "                                 nonbondedCutoff = 1.0*nanometers, constraints = HBonds)\n",
    "integrator = LangevinIntegrator(296*kelvin, 1.0/picosecond, 1.0*femtosecond)\n",
    "\n",
    "# Specify the platform/processor that will be used to run the simulation on.\n",
    "# Since the average person will be doing these simulations on their own computer\n",
    "# with no special modifications, 'CPU' will be the only platform one wll be able\n",
    "# to use.\n",
    "platform = Platform.getPlatformByName('CPU')\n",
    "\n",
    "# Initialize the simulation with the required topology, system, integrator, and\n",
    "# platform, as well as set the positions of the molecules in the simulation.\n",
    "simulation = Simulation(protein_model.topology, system, integrator, platform)\n",
    "simulation.context.setPositions(protein_model.positions)"
   ]
  },
  {
   "cell_type": "markdown",
   "metadata": {
    "id": "28lutcgUKXx7"
   },
   "source": [
    "# Minimization: provides an initial low energy structure"
   ]
  },
  {
   "cell_type": "code",
   "execution_count": 36,
   "metadata": {
    "colab": {
     "base_uri": "https://localhost:8080/"
    },
    "id": "czvte7oWKXx8",
    "outputId": "e7c0e673-bf09-449a-8243-e5f7c67a78e2"
   },
   "outputs": [
    {
     "name": "stdout",
     "output_type": "stream",
     "text": [
      "Potential energy before minimization is -335668.6920125223 kJ/mol\n",
      "Kinetic energy before minimization is 8251.323837582811 kJ/mol\n",
      "Minimizing...\n",
      "Potential energy after minimization is -654049.3361967647 kJ/mol\n",
      "Kinetic energy after minimization is 2.4480525972159777 kJ/mol\n",
      "Done Minimization! Time required:  11.829675912857056 seconds\n"
     ]
    }
   ],
   "source": [
    "\n",
    "# Get the initial state of the system and print out the values for\n",
    "# potential and kinetic energy\n",
    "st = simulation.context.getState(getPositions=True, getEnergy=True, enforcePeriodicBox=True)\n",
    "print(\"Potential energy before minimization is %s\" % st.getPotentialEnergy())\n",
    "print(\"Kinetic energy before minimization is %s\" % st.getKineticEnergy())\n",
    "\n",
    "# Minimize the simulation for at most 100 iterations (the simulation \n",
    "# can potentially stop minimizing if the kinetic energy has been sufficiently\n",
    "# minimized before it reaches 100 iterations, although you won't be able\n",
    "# to tell), while also taking note of how long it takes for the minimization to\n",
    "# finish.\n",
    "print('Minimizing...')\n",
    "tinit = time()\n",
    "simulation.minimizeEnergy(maxIterations=100)\n",
    "tfinal = time()\n",
    "\n",
    "# Get the new state of the system and print out the values for\n",
    "# potential and kinetic energy.\n",
    "st = simulation.context.getState(getPositions=True,getEnergy=True, enforcePeriodicBox=True)\n",
    "print(\"Potential energy after minimization is %s\" % st.getPotentialEnergy())\n",
    "print(\"Kinetic energy after minimization is %s\" % st.getKineticEnergy())\n",
    "\n",
    "# Print out the length of time the minimization took to complete.\n",
    "print(\"Done Minimization! Time required: \", tfinal-tinit, \"seconds\")\n",
    "\n"
   ]
  },
  {
   "cell_type": "markdown",
   "metadata": {
    "id": "AvWVPKbgKXx9"
   },
   "source": [
    "# Equilibration: sets initial velocities and brings system up to desired temperature"
   ]
  },
  {
   "cell_type": "code",
   "execution_count": 37,
   "metadata": {
    "colab": {
     "base_uri": "https://localhost:8080/"
    },
    "id": "5calCkwxKXx-",
    "outputId": "b2713f15-8092-48e1-f14b-ee6945c9390a"
   },
   "outputs": [
    {
     "name": "stdout",
     "output_type": "stream",
     "text": [
      "Equilibrating...\n",
      "Done equilibrating! Time required: 291.7256112098694 seconds\n"
     ]
    }
   ],
   "source": [
    "# Set the system to maintain atom velocities such that the temperature of\n",
    "# the system fluctuates around 296 Kelvin throughout the rest of the \n",
    "# equilibration and final simulation.\n",
    "simulation.context.setVelocitiesToTemperature(296*kelvin)\n",
    "\n",
    "# Equilibrate the system for 10,000 timesteps while also taking note of \n",
    "# how long it takes for the equilibration to finish.\n",
    "print('Equilibrating...')\n",
    "tinit = time()\n",
    "simulation.step(10000)   #number is how many timesteps of equilibration to do\n",
    "tfinal = time()\n",
    "\n",
    "# Print out the length of time the equilibration took to complete.\n",
    "print(\"Done equilibrating! Time required:\", tfinal - tinit, \"seconds\")"
   ]
  },
  {
   "cell_type": "markdown",
   "metadata": {
    "id": "FMFA3MIaKXx_"
   },
   "source": [
    "# Production: creates trajectory at desired temperature, starting from end of equilibration"
   ]
  },
  {
   "cell_type": "code",
   "execution_count": null,
   "metadata": {
    "colab": {
     "base_uri": "https://localhost:8080/"
    },
    "id": "NeGOg2qDKXx_",
    "outputId": "fb2d5048-044e-43ca-bb45-110b62cd20aa"
   },
   "outputs": [
    {
     "name": "stdout",
     "output_type": "stream",
     "text": [
      "Running Production...\n",
      "#\"Step\"\t\"Potential Energy (kJ/mole)\"\t\"Kinetic Energy (kJ/mole)\"\t\"Temperature (K)\"\n",
      "15000\t-550155.3185490484\t107096.799756529\t295.7700189266818\n",
      "20000\t-549574.8613836395\t107812.97052600981\t297.74787300379364\n",
      "25000\t-548873.3933956499\t106768.49160735511\t294.8633278984186\n",
      "30000\t-549522.9112184492\t107503.1816103579\t296.8923266788433\n",
      "35000\t-551125.1229723224\t105803.56648641244\t292.1984871008145\n",
      "40000\t-549098.2154949494\t107140.64586461968\t295.89110904561466\n",
      "45000\t-547881.0344074786\t106849.01073800655\t295.0856981732623\n",
      "50000\t-550883.9769858827\t106555.60105198443\t294.2753864871492\n",
      "55000\t-550016.8140000576\t106590.11479226031\t294.37070333730566\n",
      "60000\t-550612.9650530749\t107127.04037725482\t295.8535346711743\n",
      "65000\t-550262.2100953655\t106301.0436509147\t293.5723734419089\n",
      "70000\t-550096.9834092837\t107156.34764528315\t295.93447276866306\n",
      "75000\t-550579.8044187055\t106676.80014523864\t294.61010291366415\n",
      "80000\t-550402.669733213\t107297.0819351773\t296.3231396912999\n",
      "85000\t-551452.678572048\t107427.28247091081\t296.68271546766033\n",
      "90000\t-550020.1878313982\t107998.76615534477\t298.2609861587135\n",
      "95000\t-548885.6925158944\t106533.64799578564\t294.2147585705151\n",
      "100000\t-550710.3019446495\t107228.58921476058\t296.1339828419819\n",
      "105000\t-549508.1154083703\t105889.22130893334\t292.43504065363544\n",
      "110000\t-549784.2439551026\t106940.99254067463\t295.3397249936518\n",
      "115000\t-551823.4657109425\t107708.0871005243\t297.458215676857\n",
      "120000\t-550399.0759514644\t106550.2719369741\t294.26066903106226\n",
      "125000\t-550085.9518737489\t107599.5419906721\t297.1584458492957\n",
      "130000\t-549721.8793531443\t107210.2110292279\t296.0832276719376\n",
      "135000\t-549634.3612831361\t106582.27669903458\t294.34905681764315\n",
      "140000\t-549275.8074684745\t106610.87953328833\t294.42804947519977\n",
      "145000\t-549063.7430137922\t108087.31487353651\t298.50553180447554\n",
      "150000\t-549890.9223017911\t106250.084431655\t293.4316389915874\n",
      "155000\t-551982.8840070576\t106934.4468484401\t295.3216477073044\n",
      "160000\t-550854.8053486644\t106762.54217249401\t294.8468973004412\n",
      "165000\t-550925.7420690202\t108145.25748386017\t298.6655523372183\n",
      "170000\t-550054.2249960005\t107279.49144776764\t296.27455991295074\n",
      "175000\t-549066.5998263775\t106507.19310084789\t294.14169789275223\n",
      "180000\t-549774.732338059\t106507.4028180474\t294.14227707028334\n",
      "185000\t-550687.5881058276\t107123.38093461227\t295.8434283615357\n",
      "190000\t-549550.2808682148\t107934.1990700659\t298.08267076480456\n",
      "195000\t-549320.4891817289\t106778.18295033202\t294.89009255153826\n",
      "200000\t-550266.5532267739\t107684.47762363176\t297.39301321102016\n",
      "205000\t-550438.8373928688\t107635.1176553402\t297.25669542385003\n",
      "210000\t-549375.1829243562\t107796.5773278045\t297.7025997878388\n",
      "215000\t-550659.314774484\t107603.26615306108\t297.16873089593366\n",
      "220000\t-550210.4330090818\t106579.94643667054\t294.34262131494756\n",
      "225000\t-549458.3856241723\t107531.59740444517\t296.9708027861977\n",
      "230000\t-549705.8764338751\t107942.49117858791\t298.10557114184735\n",
      "235000\t-549538.9028378786\t107753.75059234865\t297.58432487780277\n",
      "240000\t-549662.6621606126\t107047.72054556836\t295.63447650909575\n",
      "245000\t-550971.6079794109\t107302.78402980175\t296.33888720792817\n",
      "250000\t-550447.9640302374\t106571.4521631895\t294.31916261745175\n",
      "255000\t-550747.704431193\t107084.52924200376\t295.7361313565432\n",
      "260000\t-551009.5110510127\t106591.5262577095\t294.3746013918093\n",
      "265000\t-550006.704980152\t107848.80565912732\t297.8468391542715\n",
      "270000\t-550589.88390769\t107491.4881800131\t296.86003284632665\n",
      "275000\t-549456.6096849865\t106940.07408320857\t295.33718848291824\n",
      "280000\t-551665.1054122446\t106512.22412759397\t294.1555921162892\n",
      "285000\t-548965.5863311215\t107117.99056037169\t295.82854172538237\n",
      "290000\t-550309.2772317437\t106262.67532720215\t293.4664113603486\n",
      "295000\t-549550.4646052629\t106879.49035444263\t295.16987395396416\n",
      "300000\t-550958.001141532\t107396.22021199332\t296.5969305989358\n",
      "305000\t-549947.3533817137\t107848.51635170558\t297.8460401718388\n",
      "310000\t-549941.3368398867\t107344.21289516578\t296.45330160985884\n",
      "315000\t-550472.8751984149\t107320.65681576208\t296.38824661225937\n",
      "320000\t-550648.8991944814\t106550.9466764415\t294.2625324640079\n",
      "325000\t-549668.1070953229\t106268.81832614765\t293.48337652568046\n",
      "330000\t-550525.2506258641\t106456.55981210114\t294.0018635671236\n",
      "335000\t-549961.3906406676\t106908.83427452891\t295.25091327371075\n",
      "340000\t-551157.3327072032\t107465.44184143862\t296.7881004816747\n",
      "345000\t-549523.6399310123\t107705.52704923859\t297.4511455644078\n",
      "350000\t-549900.5769043211\t106298.59082280984\t293.56559944850625\n",
      "355000\t-550523.9914880585\t106635.47316690706\t294.49596989389977\n",
      "360000\t-550013.5489774147\t107417.16688602557\t296.6547791825448\n",
      "365000\t-548941.812460541\t107158.93579792646\t295.9416204888381\n",
      "370000\t-550061.3682695322\t107319.2363859171\t296.38432380071794\n",
      "375000\t-549087.3655176216\t107310.60191065755\t296.36047790694016\n",
      "380000\t-549203.4440683234\t106601.47687856629\t294.40208209455517\n",
      "385000\t-550530.37431915\t107457.25892451958\t296.76550165988436\n",
      "390000\t-550549.9154417956\t107315.00904605583\t296.372649125157\n",
      "395000\t-549544.2933056706\t107411.48203631303\t296.6390792913165\n",
      "400000\t-550995.5355984565\t107186.97289728731\t296.0190507521836\n",
      "405000\t-550966.0992601382\t107710.36349494488\t297.4645024120572\n",
      "410000\t-551667.170874981\t106681.5328358536\t294.62317322011535\n",
      "415000\t-551325.3649584188\t106263.61904835374\t293.4690176419882\n",
      "420000\t-549608.238337135\t107896.24145810923\t297.97784294891875\n",
      "425000\t-551072.8276178568\t107696.60257742972\t297.42649878502857\n",
      "430000\t-549799.1324867356\t106988.98609331358\t295.4722691406726\n",
      "435000\t-551046.8956734346\t106508.80673132047\t294.1461542678867\n",
      "440000\t-549627.6157207348\t107726.11304852577\t297.5079980699228\n",
      "445000\t-549629.0807190514\t107029.88172303177\t295.5852109018015\n",
      "450000\t-551636.7546526231\t107403.35221419507\t296.6166271018284\n",
      "455000\t-550506.52057602\t107694.1813138209\t297.41981196352657\n",
      "460000\t-549515.131860575\t107208.57937160924\t296.0787215111014\n",
      "465000\t-550305.16159836\t107218.07612711808\t296.1049487705804\n",
      "470000\t-550272.8950195683\t107291.90300882336\t296.3088370123291\n",
      "475000\t-549814.5098870489\t106669.29288748803\t294.58937006476447\n",
      "480000\t-549774.0196198622\t106954.10784251154\t295.3759456191173\n",
      "485000\t-550718.9851429116\t106750.21421727285\t294.81285109591056\n",
      "490000\t-549561.7090511308\t107011.97744714924\t295.5357645315207\n",
      "495000\t-550067.7254412669\t106667.97087647911\t294.5857190572459\n",
      "500000\t-550559.5553904031\t107281.05533350458\t296.27887890768324\n",
      "505000\t-549811.2153007023\t106253.67224500926\t293.4415474820942\n",
      "510000\t-550162.1084269912\t106586.2446847506\t294.36001523295516\n",
      "515000\t-551075.0029750844\t106450.29753422743\t293.98456898829915\n",
      "520000\t-549223.8873051214\t107529.26071000486\t296.96434951998987\n",
      "525000\t-550614.8248649372\t107304.19521047689\t296.34278447596927\n",
      "530000\t-549123.9831675342\t106388.05569074294\t293.81267523174165\n",
      "535000\t-549716.3393247098\t106556.95638272508\t294.2791295140157\n",
      "540000\t-549771.7585632793\t106982.22732166959\t295.4536033913542\n",
      "545000\t-550794.2755928438\t106228.43655176391\t293.371853882605\n"
     ]
    }
   ],
   "source": [
    "# Set up simulation to save important values needed for visualization purposes\n",
    "# to a PDB file and a DCD file, as well as report the timestep, the kinetic\n",
    "# and potential energies, and the temperature of the system to the standard\n",
    "# output, every 100 timesteps.\n",
    "Nsteps=1000000\n",
    "print_every_Nsteps=5000\n",
    "simulation.reporters.append(PDBReporter(the_protein + '_trajectory.pdb', print_every_Nsteps))\n",
    "simulation.reporters.append(StateDataReporter(stdout, print_every_Nsteps, step=True, kineticEnergy=True, \n",
    "    potentialEnergy=True, temperature=True, separator='\\t'))\n",
    "\n",
    "# Start the simulation, while also taking note of how long it takes for the\n",
    "# simulation to finish. When the values are shown in the standard output,\n",
    "# it will look like the simulation starts at at the 10,000th timestep. That's\n",
    "# because we are looking at the current state of the system. We already told\n",
    "# the simulation to go through 10,000 timesteps in the equilibration step, so\n",
    "# that's what's being reflected here.\n",
    "tinit = time()\n",
    "print('Running Production...')\n",
    "simulation.step(Nsteps)\n",
    "tfinal = time()\n",
    "print('Done!')\n",
    "\n",
    "# Print out the length of time the simulation took to complete.\n",
    "print('Done production! Time required:', tfinal-tinit, 'seconds')"
   ]
  },
  {
   "cell_type": "markdown",
   "metadata": {
    "id": "fBJHrJ-aKXyA"
   },
   "source": [
    "# Trajectory analysis using the mdtraj package"
   ]
  },
  {
   "cell_type": "code",
   "execution_count": null,
   "metadata": {
    "id": "q43TOO2dKXyA"
   },
   "outputs": [],
   "source": [
    "import matplotlib.pyplot as plt\n",
    "import mdtraj as md\n",
    "import numpy as np"
   ]
  },
  {
   "cell_type": "code",
   "execution_count": null,
   "metadata": {
    "id": "IkuRp1-RKXyB"
   },
   "outputs": [],
   "source": [
    "traj = md.load(the_protein + '_trajectory.pdb')\n",
    "print(traj)"
   ]
  },
  {
   "cell_type": "code",
   "execution_count": null,
   "metadata": {
    "id": "bxn4d3HWKXyC",
    "outputId": "722a3e45-988f-4f43-cc85-5720f671a78a"
   },
   "outputs": [
    {
     "name": "stdout",
     "output_type": "stream",
     "text": [
      "How many atoms?    49059\n",
      "How many residues? 15642\n",
      "Second residue: ASN2\n",
      "Hi! I am the 2th atom, and my name is H2. \n",
      "I am a hydrogen atom with 1 bonds. \n",
      "I am part of an MET residue.\n"
     ]
    }
   ],
   "source": [
    "print('How many atoms?    %s' % traj.n_atoms)   #prints out number of atoms in simulation\n",
    "print('How many residues? %s' % traj.n_residues)   #prints out number of residues in simulation\n",
    "print('Second residue: %s' % traj.topology.residue(1))   #prints out the residue label for the number you put in\n",
    "atom = traj.topology.atom(2)      #picks out a specific atom (based on the number) for further interrogation\n",
    "print('''Hi! I am the %sth atom, and my name is %s. \n",
    "I am a %s atom with %s bonds. \n",
    "I am part of an %s residue.''' % ( atom.index, atom.name, atom.element.name, atom.n_bonds, atom.residue.name))"
   ]
  },
  {
   "cell_type": "markdown",
   "metadata": {
    "id": "NkSYPDczKXyD"
   },
   "source": [
    "# Distance analysis"
   ]
  },
  {
   "cell_type": "code",
   "execution_count": null,
   "metadata": {
    "id": "hyw8ow08KXyD",
    "outputId": "686fa688-22fc-4513-8712-54ec5bafa32b"
   },
   "outputs": [
    {
     "data": {
      "text/plain": [
       "<matplotlib.legend.Legend at 0x25be2883bb0>"
      ]
     },
     "execution_count": 13,
     "metadata": {},
     "output_type": "execute_result"
    },
    {
     "data": {
      "image/png": "[encoded data removed]",
      "text/plain": [
       "<Figure size 432x288 with 1 Axes>"
      ]
     },
     "metadata": {
      "needs_background": "light"
     },
     "output_type": "display_data"
    }
   ],
   "source": [
    "\n",
    "plt.plot(md.rmsd(traj,traj[0]), label=\"RMSD\")\n",
    "plt.plot(md.compute_distances(traj,[[0,1]],periodic=True), label=\"Na-Cl distance\")   #distance between atoms 0 and 1\n",
    "plt.plot(np.sqrt(np.sum((traj.xyz[0, 1, :] - traj.xyz[:, 1, :])**2, axis=1)), label=\"Na travel distance\")  # travel distance for atom 0\n",
    "plt.plot(np.sqrt(np.sum((traj.xyz[0, 0, :] - traj.xyz[:, 0, :])**2, axis=1)), label=\"Cl travel distance\")  # travel distance for atom 1\n",
    "plt.xlabel(\"Frames\")\n",
    "plt.ylabel(\"Distance/nm\")\n",
    "plt.legend(loc='upper left',fontsize='medium')"
   ]
  },
  {
   "cell_type": "code",
   "execution_count": null,
   "metadata": {
    "id": "J7UzseyqKXyD",
    "outputId": "dfb12116-00bd-4a2f-a11b-9620d5aa1302"
   },
   "outputs": [
    {
     "name": "stdout",
     "output_type": "stream",
     "text": [
      "3.0572684\n"
     ]
    }
   ],
   "source": [
    "print(np.mean(np.sqrt(np.sum((traj.xyz[:, 0, :] - traj.xyz[:, 1, :])**2, axis=1))))  #prints mean distance between atoms 0 and 1 over the whole trajectory"
   ]
  },
  {
   "cell_type": "code",
   "execution_count": null,
   "metadata": {
    "id": "4u38NiPDKXyE"
   },
   "outputs": [],
   "source": []
  }
 ],
 "metadata": {
  "colab": {
   "provenance": []
  },
  "kernelspec": {
   "display_name": "Python 3 (ipykernel)",
   "language": "python",
   "name": "python3"
  },
  "language_info": {
   "codemirror_mode": {
    "name": "ipython",
    "version": 3
   },
   "file_extension": ".py",
   "mimetype": "text/x-python",
   "name": "python",
   "nbconvert_exporter": "python",
   "pygments_lexer": "ipython3",
   "version": "3.8.13"
  }
 },
 "nbformat": 4,
 "nbformat_minor": 1
}
