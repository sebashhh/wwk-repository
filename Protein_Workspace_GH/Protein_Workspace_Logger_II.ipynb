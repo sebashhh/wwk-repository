{
 "cells": [
  {
   "cell_type": "markdown",
   "metadata": {},
   "source": [
    "# Imports, type in the protein to be display"
   ]
  },
  {
   "cell_type": "code",
   "execution_count": 1,
   "metadata": {
    "code_folding": [],
    "scrolled": false
   },
   "outputs": [
    {
     "name": "stdout",
     "output_type": "stream",
     "text": [
      "\u001b[0m\u001b[01;32m113l.pdb\u001b[0m*             \u001b[01;32m6w9q.pdb\u001b[0m*\r\n",
      "\u001b[01;32m113l_trajectory.pdb\u001b[0m*  \u001b[01;32moutput.pdb\u001b[0m*\r\n",
      "\u001b[01;32m1a43.pdb\u001b[0m*             \u001b[01;32mProtein_Workspace_Copy.ipynb\u001b[0m*\r\n",
      "\u001b[01;32m1a43_trajectory.pdb\u001b[0m*  Protein_Workspace_Logger_II.ipynb\r\n",
      "6w9q.log              Protein_Workspace_Logger.ipynb\r\n"
     ]
    }
   ],
   "source": [
    "%ls"
   ]
  },
  {
   "cell_type": "code",
   "execution_count": 11,
   "metadata": {
    "colab": {
     "base_uri": "https://localhost:8080/"
    },
    "id": "vtJyx9Ml12Cf",
    "outputId": "301910b6-4bf7-4cf5-c00e-f85ac406514d"
   },
   "outputs": [],
   "source": [
    "from simtk.openmm.app import *\n",
    "from simtk.openmm import *\n",
    "from simtk.unit import *\n",
    "from sys import stdout\n",
    "from time import time\n",
    "#type in the name of the protein you're working with (e.g. 1yiy, 3hfb)\n",
    "the_protein = '5z5w'\n",
    "\n",
    "#sends printout to separate log file\n",
    "log = open(the_protein + \".log\", \"a\")\n",
    "sys.stdout = log"
   ]
  },
  {
   "cell_type": "markdown",
   "metadata": {
    "id": "NYF1knJMKXx2"
   },
   "source": [
    "# PDB fixer excerpt that gets rogue PDB files working working\n",
    "\n",
    "Note attempt to load without pdbfixer first by skipping to the next block of code \n",
    "\n",
    "pdbfixer fixes issues with missing residues, missing H atoms, and adds in solvent\n"
   ]
  },
  {
   "cell_type": "code",
   "execution_count": 13,
   "metadata": {
    "colab": {
     "base_uri": "https://localhost:8080/",
     "height": 109
    },
    "id": "3RvgrG-8KXx2",
    "outputId": "7fd23ff4-2d9d-4e53-9992-8ecdee892461"
   },
   "outputs": [],
   "source": [
    "from pdbfixer import PDBFixer\n",
    "from simtk.openmm.app import PDBFile\n",
    "protein_file = the_protein + '.pdb'\n",
    "fixer = PDBFixer(filename= protein_file)\n",
    "numChains = len(list(fixer.topology.chains()))  #these two lines remove all chains but the first\n",
    "fixer.removeChains(range(1, numChains)) #these two lines remove all chains but the first\n",
    "fixer.findMissingResidues()\n",
    "fixer.findNonstandardResidues()\n",
    "fixer.replaceNonstandardResidues()\n",
    "fixer.removeHeterogens(False)  #the \"false\" also removes waters\n",
    "fixer.findMissingAtoms()\n",
    "fixer.addMissingAtoms()\n",
    "#changed to 9.0\n",
    "fixer.addMissingHydrogens(7.0)\n",
    "# fixer.addSolvent(fixer.topology.getUnitCellDimensions(), positiveIon='Na+', negativeIon='Cl-', ionicStrength=0.0*molar)\n",
    "PDBFile.writeFile(fixer.topology, fixer.positions, open(protein_file, 'w'))\n",
    "print('Done writing fixed PDB')\n",
    "print('Done adding solvent')"
   ]
  },
  {
   "cell_type": "markdown",
   "metadata": {
    "id": "yzIX1E69KXx4"
   },
   "source": [
    "# Load a structure and set up the simulation parameters and data structures"
   ]
  },
  {
   "cell_type": "code",
   "execution_count": 14,
   "metadata": {
    "id": "ioSdeY1VKXx5"
   },
   "outputs": [],
   "source": [
    "protein = PDBFile(the_protein + '.pdb')\n",
    "forcefield = ForceField('amber14/protein.ff14SB.xml', 'amber14/tip3p.xml')\n",
    "# Create Modeller object  This Modeller object will be used in place of the\n",
    "# actual pdb file.\n",
    "protein_model = Modeller(protein.topology, protein.positions)\n",
    "\n",
    "# Add a tip3p waterbox solvent\n",
    "protein_model.addSolvent(forcefield, model = 'tip3p', padding = 1.5*nanometers)\n",
    "\n",
    "try:\n",
    "    protein_model.addSolvent(forcefield, model = 'tip3p', padding = 1.5*nanometers)\n",
    "except Exception as e:\n",
    "    print(e)\n",
    "    display(\"Exception logged. Run pdb fixer before proceeding.\")"
   ]
  },
  {
   "cell_type": "code",
   "execution_count": 15,
   "metadata": {
    "id": "j6nT3VmJKXx6"
   },
   "outputs": [],
   "source": [
    "# Create and setup the system/environment as well as the integrator\n",
    "# to be used in the simulation. Values will be recorded at every femtosecond\n",
    "# (1 femtosecond = 1 timestep), and the system will be set to stay at around\n",
    "# 296 Kelvin\n",
    "\n",
    "system = forcefield.createSystem(protein_model.topology, nonbondedMethod = PME, \n",
    "                                 nonbondedCutoff = 1.0*nanometers, constraints = HBonds)\n",
    "integrator = LangevinIntegrator(296*kelvin, 1.0/picosecond, 1.0*femtosecond)\n",
    "\n",
    "# Specify the platform/processor that will be used to run the simulation on.\n",
    "# Since the average person will be doing these simulations on their own computer\n",
    "# with no special modifications, 'CPU' will be the only platform one wll be able\n",
    "# to use.\n",
    "platform = Platform.getPlatformByName('CPU')\n",
    "\n",
    "# Initialize the simulation with the required topology, system, integrator, and\n",
    "# platform, as well as set the positions of the molecules in the simulation.\n",
    "simulation = Simulation(protein_model.topology, system, integrator, platform)\n",
    "simulation.context.setPositions(protein_model.positions)"
   ]
  },
  {
   "cell_type": "markdown",
   "metadata": {
    "id": "28lutcgUKXx7"
   },
   "source": [
    "# Minimization: provides an initial low energy structure"
   ]
  },
  {
   "cell_type": "code",
   "execution_count": 16,
   "metadata": {
    "colab": {
     "base_uri": "https://localhost:8080/"
    },
    "id": "czvte7oWKXx8",
    "outputId": "e7c0e673-bf09-449a-8243-e5f7c67a78e2"
   },
   "outputs": [],
   "source": [
    "\n",
    "# Get the initial state of the system and print out the values for\n",
    "# potential and kinetic energy\n",
    "st = simulation.context.getState(getPositions=True, getEnergy=True, enforcePeriodicBox=True)\n",
    "print(\"Potential energy before minimization is %s\" % st.getPotentialEnergy())\n",
    "print(\"Kinetic energy before minimization is %s\" % st.getKineticEnergy())\n",
    "\n",
    "# Minimize the simulation for at most 100 iterations (the simulation \n",
    "# can potentially stop minimizing if the kinetic energy has been sufficiently\n",
    "# minimized before it reaches 100 iterations, although you won't be able\n",
    "# to tell), while also taking note of how long it takes for the minimization to\n",
    "# finish.\n",
    "print('Minimizing...')\n",
    "tinit = time()\n",
    "simulation.minimizeEnergy(maxIterations=100)\n",
    "tfinal = time()\n",
    "\n",
    "# Get the new state of the system and print out the values for\n",
    "# potential and kinetic energy.\n",
    "st = simulation.context.getState(getPositions=True,getEnergy=True, enforcePeriodicBox=True)\n",
    "print(\"Potential energy after minimization is %s\" % st.getPotentialEnergy())\n",
    "print(\"Kinetic energy after minimization is %s\" % st.getKineticEnergy())\n",
    "\n",
    "# Print out the length of time the minimization took to complete.\n",
    "print(\"Done Minimization! Time required: \", tfinal-tinit, \"seconds\")\n",
    "\n"
   ]
  },
  {
   "cell_type": "markdown",
   "metadata": {
    "id": "AvWVPKbgKXx9"
   },
   "source": [
    "# Equilibration: sets initial velocities and brings system up to desired temperature"
   ]
  },
  {
   "cell_type": "code",
   "execution_count": 17,
   "metadata": {
    "colab": {
     "base_uri": "https://localhost:8080/"
    },
    "id": "5calCkwxKXx-",
    "outputId": "b2713f15-8092-48e1-f14b-ee6945c9390a"
   },
   "outputs": [],
   "source": [
    "# Set the system to maintain atom velocities such that the temperature of\n",
    "# the system fluctuates around 296 Kelvin throughout the rest of the \n",
    "# equilibration and final simulation.\n",
    "simulation.context.setVelocitiesToTemperature(296*kelvin)\n",
    "\n",
    "# Equilibrate the system for 10,000 timesteps while also taking note of \n",
    "# how long it takes for the equilibration to finish.\n",
    "print('Equilibrating...')\n",
    "tinit = time()\n",
    "simulation.step(10000)   #number is how many timesteps of equilibration to do\n",
    "tfinal = time()\n",
    "\n",
    "# Print out the length of time the equilibration took to complete.\n",
    "print(\"Done equilibrating! Time required:\", tfinal - tinit, \"seconds\")"
   ]
  },
  {
   "cell_type": "markdown",
   "metadata": {
    "id": "FMFA3MIaKXx_"
   },
   "source": [
    "# Production: creates trajectory at desired temperature, starting from end of equilibration"
   ]
  },
  {
   "cell_type": "code",
   "execution_count": 18,
   "metadata": {
    "colab": {
     "base_uri": "https://localhost:8080/"
    },
    "id": "NeGOg2qDKXx_",
    "outputId": "fb2d5048-044e-43ca-bb45-110b62cd20aa"
   },
   "outputs": [],
   "source": [
    "# Set up simulation to save important values needed for visualization purposes\n",
    "# to a PDB file and a DCD file, as well as report the timestep, the kinetic\n",
    "# and potential energies, and the temperature of the system to the standard\n",
    "# output, every 100 timesteps.\n",
    "Nsteps=10000\n",
    "print_every_Nsteps=100\n",
    "simulation.reporters.append(PDBReporter(the_protein + '_trajectory.pdb', print_every_Nsteps))\n",
    "simulation.reporters.append(StateDataReporter(stdout, print_every_Nsteps, step=True, kineticEnergy=True, \n",
    "    potentialEnergy=True, temperature=True, separator='\\t'))\n",
    "\n",
    "# Start the simulation, while also taking note of how long it takes for the\n",
    "# simulation to finish. When the values are shown in the standard output,\n",
    "# it will look like the simulation starts at at the 10,000th timestep. That's\n",
    "# because we are looking at the current state of the system. We already told\n",
    "# the simulation to go through 10,000 timesteps in the equilibration step, so\n",
    "# that's what's being reflected here.\n",
    "tinit = time()\n",
    "print('Running Production on ' + the_protein + '...')\n",
    "simulation.step(Nsteps)\n",
    "tfinal = time()\n",
    "print('Done!')\n",
    "\n",
    "# Print out the length of time the simulation took to complete.\n",
    "print('Done production! Time required:', tfinal-tinit, 'seconds')\n",
    "print(\"Number of steps:\", Nsteps)"
   ]
  },
  {
   "cell_type": "markdown",
   "metadata": {
    "id": "fBJHrJ-aKXyA"
   },
   "source": [
    "# Trajectory analysis using the mdtraj package"
   ]
  },
  {
   "cell_type": "code",
   "execution_count": 19,
   "metadata": {
    "id": "q43TOO2dKXyA"
   },
   "outputs": [],
   "source": [
    "import matplotlib.pyplot as plt\n",
    "import mdtraj as md\n",
    "import numpy as np"
   ]
  },
  {
   "cell_type": "code",
   "execution_count": null,
   "metadata": {
    "id": "IkuRp1-RKXyB"
   },
   "outputs": [],
   "source": [
    "traj = md.load(the_protein + '_trajectory.pdb')\n",
    "print(traj)"
   ]
  },
  {
   "cell_type": "code",
   "execution_count": 1,
   "metadata": {
    "id": "bxn4d3HWKXyC",
    "outputId": "722a3e45-988f-4f43-cc85-5720f671a78a"
   },
   "outputs": [
    {
     "ename": "NameError",
     "evalue": "name 'traj' is not defined",
     "output_type": "error",
     "traceback": [
      "\u001b[0;31m---------------------------------------------------------------------------\u001b[0m",
      "\u001b[0;31mNameError\u001b[0m                                 Traceback (most recent call last)",
      "Input \u001b[0;32mIn [1]\u001b[0m, in \u001b[0;36m<module>\u001b[0;34m\u001b[0m\n\u001b[0;32m----> 1\u001b[0m \u001b[38;5;28mprint\u001b[39m(\u001b[38;5;124m'\u001b[39m\u001b[38;5;124mHow many atoms?    \u001b[39m\u001b[38;5;132;01m%s\u001b[39;00m\u001b[38;5;124m'\u001b[39m \u001b[38;5;241m%\u001b[39m \u001b[43mtraj\u001b[49m\u001b[38;5;241m.\u001b[39mn_atoms)   \u001b[38;5;66;03m#prints out number of atoms in simulation\u001b[39;00m\n\u001b[1;32m      2\u001b[0m \u001b[38;5;28mprint\u001b[39m(\u001b[38;5;124m'\u001b[39m\u001b[38;5;124mHow many residues? \u001b[39m\u001b[38;5;132;01m%s\u001b[39;00m\u001b[38;5;124m'\u001b[39m \u001b[38;5;241m%\u001b[39m traj\u001b[38;5;241m.\u001b[39mn_residues)   \u001b[38;5;66;03m#prints out number of residues in simulation\u001b[39;00m\n\u001b[1;32m      3\u001b[0m \u001b[38;5;28mprint\u001b[39m(\u001b[38;5;124m'\u001b[39m\u001b[38;5;124mHow many water molecules? \u001b[39m\u001b[38;5;132;01m%s\u001b[39;00m\u001b[38;5;124m'\u001b[39m \u001b[38;5;241m%\u001b[39m traj\u001b[38;5;241m.\u001b[39matoms_by_name(\u001b[38;5;28mself\u001b[39m, water))\n",
      "\u001b[0;31mNameError\u001b[0m: name 'traj' is not defined"
     ]
    }
   ],
   "source": [
    "print('How many atoms?    %s' % traj.n_atoms)   #prints out number of atoms in simulation\n",
    "print('How many residues? %s' % traj.n_residues)   #prints out number of residues in simulation\n",
    "print('How many water molecules? %s' % traj.atoms_by_name(self, water))\n",
    "print('Second residue: %s' % traj.topology.residue(1))   #prints out the residue label for the number you put in\n",
    "atom = traj.topology.atom(2)      #picks out a specific atom (based on the number) for further interrogation\n",
    "print('''Hi! I am the %sth atom, and my name is %s. \n",
    "I am a %s atom with %s bonds. \n",
    "I am part of an %s residue.''' % ( atom.index, atom.name, atom.element.name, atom.n_bonds, atom.residue.name))\n"
   ]
  }
 ],
 "metadata": {
  "colab": {
   "provenance": []
  },
  "kernelspec": {
   "display_name": "Python 3 (ipykernel)",
   "language": "python",
   "name": "python3"
  },
  "language_info": {
   "codemirror_mode": {
    "name": "ipython",
    "version": 3
   },
   "file_extension": ".py",
   "mimetype": "text/x-python",
   "name": "python",
   "nbconvert_exporter": "python",
   "pygments_lexer": "ipython3",
   "version": "3.9.7"
  }
 },
 "nbformat": 4,
 "nbformat_minor": 1
}
