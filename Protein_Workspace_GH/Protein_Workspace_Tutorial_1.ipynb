{
 "cells": [
  {
   "cell_type": "markdown",
   "metadata": {},
   "source": [
    "# 1. Imports, type in the protein to be displayed"
   ]
  },
  {
   "attachments": {},
   "cell_type": "markdown",
   "metadata": {},
   "source": [
    "### After running through every cell of this JupyterNotebook, you will have started the creation of a short protein trajectory! We can beginning running 1nmf and 1a57. [Click here](https://www.rcsb.org/search?request=%7B%22query%22%3A%7B%22type%22%3A%22group%22%2C%22nodes%22%3A%5B%7B%22type%22%3A%22group%22%2C%22nodes%22%3A%5B%7B%22type%22%3A%22terminal%22%2C%22service%22%3A%22text%22%2C%22parameters%22%3A%7B%22attribute%22%3A%22rcsb_polymer_entity_container_identifiers.chem_comp_monomers%22%2C%22negation%22%3Afalse%2C%22operator%22%3A%22exact_match%22%2C%22value%22%3A%22TRP%22%7D%7D%5D%2C%22logical_operator%22%3A%22and%22%2C%22label%22%3A%22text%22%7D%5D%2C%22logical_operator%22%3A%22and%22%7D%2C%22return_type%22%3A%22entry%22%2C%22request_options%22%3A%7B%22paginate%22%3A%7B%22start%22%3A0%2C%22rows%22%3A25%7D%2C%22results_content_type%22%3A%5B%22experimental%22%5D%2C%22sort%22%3A%5B%7B%22sort_by%22%3A%22rcsb_entry_info.deposited_polymer_entity_instance_count%22%2C%22direction%22%3A%22asc%22%7D%5D%2C%22scoring_strategy%22%3A%22combined%22%7D%2C%22request_info%22%3A%7B%22query_id%22%3A%2297685f4d68712014d3397c6405025b8c%22%7D%7D) for a link to the protein database. "
   ]
  },
  {
   "cell_type": "code",
   "execution_count": 4,
   "metadata": {
    "colab": {
     "base_uri": "https://localhost:8080/"
    },
    "id": "vtJyx9Ml12Cf",
    "outputId": "301910b6-4bf7-4cf5-c00e-f85ac406514d"
   },
   "outputs": [],
   "source": [
    "from simtk.openmm.app import *\n",
    "from simtk.openmm import *\n",
    "from simtk.unit import *\n",
    "from sys import stdout\n",
    "from time import time\n",
    "\n",
    "#type in the name of the protein you're working with inside the quotation marks(e.g. 1yiy, 3hfb)\n",
    "#note: 1nmf is already in this directory, but you will have to add 1a57.\n",
    "the_protein = \"type here\"\n",
    "\n",
    "#sends printout to separate log file\n",
    "log = open(the_protein + \".log\", \"a\")\n",
    "sys.stdout = log"
   ]
  },
  {
   "cell_type": "markdown",
   "metadata": {},
   "source": [
    "### Note that running cells will have an asterisk an asterisk (*) on the left-hand side, and completed cells will have the #'th place that it finished running at."
   ]
  },
  {
   "cell_type": "markdown",
   "metadata": {
    "id": "yzIX1E69KXx4"
   },
   "source": [
    "# Load a structure and set up the simulation parameters and data structures"
   ]
  },
  {
   "cell_type": "code",
   "execution_count": 6,
   "metadata": {
    "id": "ioSdeY1VKXx5"
   },
   "outputs": [],
   "source": [
    "protein = PDBFile(the_protein + '.pdb')\n",
    "forcefield = ForceField('amber14/protein.ff14SB.xml', 'amber14/tip3p.xml')\n",
    "# Create Modeller object  This Modeller object will be used in place of the\n",
    "# actual pdb file.\n",
    "protein_model = Modeller(protein.topology, protein.positions)\n",
    "\n",
    "# Add a tip3p waterbox solvent\n",
    "protein_model.addSolvent(forcefield, model = 'tip3p', padding = 1.5*nanometers)\n",
    "\n",
    "try:\n",
    "    protein_model.addSolvent(forcefield, model = 'tip3p', padding = 1.5*nanometers)\n",
    "except Exception as e:\n",
    "    print(e)\n",
    "    display(\"Exception logged. Run pdb fixer before proceeding.\")"
   ]
  },
  {
   "cell_type": "code",
   "execution_count": 7,
   "metadata": {
    "id": "j6nT3VmJKXx6"
   },
   "outputs": [],
   "source": [
    "# Create and setup the system/environment as well as the integrator\n",
    "# to be used in the simulation. Values will be recorded at every femtosecond\n",
    "# (1 femtosecond = 1 timestep), and the system will be set to stay at around\n",
    "# 296 Kelvin\n",
    "\n",
    "system = forcefield.createSystem(protein_model.topology, nonbondedMethod = PME, \n",
    "                                 nonbondedCutoff = 1.0*nanometers, constraints = HBonds)\n",
    "integrator = LangevinIntegrator(296*kelvin, 1.0/picosecond, 1.0*femtosecond)\n",
    "\n",
    "# Specify the platform/processor that will be used to run the simulation on.\n",
    "# Since the average person will be doing these simulations on their own computer\n",
    "# with no special modifications, 'CPU' will be the only platform one wll be able\n",
    "# to use.\n",
    "platform = Platform.getPlatformByName('CPU')\n",
    "\n",
    "# Initialize the simulation with the required topology, system, integrator, and\n",
    "# platform, as well as set the positions of the molecules in the simulation.\n",
    "simulation = Simulation(protein_model.topology, system, integrator, platform)\n",
    "simulation.context.setPositions(protein_model.positions)"
   ]
  },
  {
   "cell_type": "markdown",
   "metadata": {
    "id": "28lutcgUKXx7"
   },
   "source": [
    "# Minimization: provides an initial low energy structure"
   ]
  },
  {
   "cell_type": "markdown",
   "metadata": {},
   "source": [
    "### This script is set to generate a log file that will store every print() statement. Note what is being printed as different steps of the production run! By clicking on the jupyterhub logo in the top left corner, you will be able to navigate the directory (folders) and the cells selected to run will still run. "
   ]
  },
  {
   "cell_type": "code",
   "execution_count": 8,
   "metadata": {
    "colab": {
     "base_uri": "https://localhost:8080/"
    },
    "id": "czvte7oWKXx8",
    "outputId": "e7c0e673-bf09-449a-8243-e5f7c67a78e2"
   },
   "outputs": [],
   "source": [
    "\n",
    "# Get the initial state of the system and print out the values for\n",
    "# potential and kinetic energy\n",
    "st = simulation.context.getState(getPositions=True, getEnergy=True, enforcePeriodicBox=True)\n",
    "print(\"Potential energy before minimization is %s\" % st.getPotentialEnergy())\n",
    "print(\"Kinetic energy before minimization is %s\" % st.getKineticEnergy())\n",
    "\n",
    "# Minimize the simulation for at most 100 iterations (the simulation \n",
    "# can potentially stop minimizing if the kinetic energy has been sufficiently\n",
    "# minimized before it reaches 100 iterations, although you won't be able\n",
    "# to tell), while also taking note of how long it takes for the minimization to\n",
    "# finish.\n",
    "print('Minimizing...')\n",
    "tinit = time()\n",
    "simulation.minimizeEnergy(maxIterations=100)\n",
    "tfinal = time()\n",
    "\n",
    "# Get the new state of the system and print out the values for\n",
    "# potential and kinetic energy.\n",
    "st = simulation.context.getState(getPositions=True,getEnergy=True, enforcePeriodicBox=True)\n",
    "print(\"Potential energy after minimization is %s\" % st.getPotentialEnergy())\n",
    "print(\"Kinetic energy after minimization is %s\" % st.getKineticEnergy())\n",
    "\n",
    "# Print out the length of time the minimization took to complete.\n",
    "print(\"Done Minimization! Time required: \", tfinal-tinit, \"seconds\")\n",
    "\n"
   ]
  },
  {
   "cell_type": "markdown",
   "metadata": {
    "id": "AvWVPKbgKXx9"
   },
   "source": [
    "# Equilibration: sets initial velocities and brings system up to desired temperature"
   ]
  },
  {
   "cell_type": "code",
   "execution_count": null,
   "metadata": {
    "colab": {
     "base_uri": "https://localhost:8080/"
    },
    "id": "5calCkwxKXx-",
    "outputId": "b2713f15-8092-48e1-f14b-ee6945c9390a"
   },
   "outputs": [],
   "source": [
    "# Set the system to maintain atom velocities such that the temperature of\n",
    "# the system fluctuates around 296 Kelvin throughout the rest of the \n",
    "# equilibration and final simulation.\n",
    "simulation.context.setVelocitiesToTemperature(296*kelvin)\n",
    "\n",
    "# Equilibrate the system for 10,000 timesteps while also taking note of \n",
    "# how long it takes for the equilibration to finish.\n",
    "print('Equilibrating...')\n",
    "tinit = time()\n",
    "simulation.step(10000)   #number is how many timesteps of equilibration to do\n",
    "tfinal = time()\n",
    "\n",
    "# Print out the length of time the equilibration took to complete.\n",
    "print(\"Done equilibrating! Time required:\", tfinal - tinit, \"seconds\")"
   ]
  },
  {
   "cell_type": "markdown",
   "metadata": {
    "id": "FMFA3MIaKXx_"
   },
   "source": [
    "# Production: creates trajectory at desired temperature, starting from end of equilibration"
   ]
  },
  {
   "cell_type": "code",
   "execution_count": null,
   "metadata": {
    "colab": {
     "base_uri": "https://localhost:8080/"
    },
    "id": "NeGOg2qDKXx_",
    "outputId": "fb2d5048-044e-43ca-bb45-110b62cd20aa"
   },
   "outputs": [],
   "source": [
    "# Set up simulation to save important values needed for visualization purposes\n",
    "# to a PDB file and a DCD file, as well as report the timestep, the kinetic\n",
    "# and potential energies, and the temperature of the system to the standard\n",
    "# output, every 100 timesteps.\n",
    "Nsteps=10000\n",
    "print_every_Nsteps=100\n",
    "simulation.reporters.append(PDBReporter(the_protein + '_trajectory.pdb', print_every_Nsteps))\n",
    "simulation.reporters.append(StateDataReporter(stdout, print_every_Nsteps, step=True, kineticEnergy=True, \n",
    "    potentialEnergy=True, temperature=True, separator='\\t'))\n",
    "\n",
    "# Start the simulation, while also taking note of how long it takes for the\n",
    "# simulation to finish. When the values are shown in the standard output,\n",
    "# it will look like the simulation starts at at the 10,000th timestep. That's\n",
    "# because we are looking at the current state of the system. We already told\n",
    "# the simulation to go through 10,000 timesteps in the equilibration step, so\n",
    "# that's what's being reflected here.\n",
    "tinit = time()\n",
    "print('Running Production on ' + the_protein + '...')\n",
    "simulation.step(Nsteps)\n",
    "tfinal = time()\n",
    "print('Done!')\n",
    "\n",
    "# Print out the length of time the simulation took to complete.\n",
    "print('Done production! Time required:', tfinal-tinit, 'seconds')\n",
    "print(\"Number of steps:\", Nsteps)"
   ]
  },
  {
   "cell_type": "markdown",
   "metadata": {
    "id": "fBJHrJ-aKXyA"
   },
   "source": [
    "# Trajectory analysis using the mdtraj package"
   ]
  },
  {
   "cell_type": "code",
   "execution_count": null,
   "metadata": {
    "id": "q43TOO2dKXyA"
   },
   "outputs": [],
   "source": [
    "import matplotlib.pyplot as plt\n",
    "import mdtraj as md\n",
    "import numpy as np"
   ]
  },
  {
   "cell_type": "code",
   "execution_count": null,
   "metadata": {
    "id": "IkuRp1-RKXyB"
   },
   "outputs": [],
   "source": [
    "traj = md.load(the_protein + '_trajectory.pdb')\n",
    "print(traj)"
   ]
  },
  {
   "cell_type": "code",
   "execution_count": null,
   "metadata": {
    "id": "bxn4d3HWKXyC",
    "outputId": "722a3e45-988f-4f43-cc85-5720f671a78a"
   },
   "outputs": [],
   "source": [
    "print('How many atoms?    %s' % traj.n_atoms)   #prints out number of atoms in simulation\n",
    "print('How many residues? %s' % traj.n_residues)   #prints out number of residues in simulation\n",
    "print('How many water molecules? %s' % traj.atoms_by_name(self, water))\n",
    "print('Second residue: %s' % traj.topology.residue(1))   #prints out the residue label for the number you put in\n",
    "atom = traj.topology.atom(2)      #picks out a specific atom (based on the number) for further interrogation\n",
    "print('''Hi! I am the %sth atom, and my name is %s. \n",
    "I am a %s atom with %s bonds. \n",
    "I am part of an %s residue.''' % ( atom.index, atom.name, atom.element.name, atom.n_bonds, atom.residue.name))\n"
   ]
  },
  {
   "cell_type": "markdown",
   "metadata": {},
   "source": [
    "### If the asterisk aboves resolves to a number, the production should be done! Be sure to store the log file in OneNote, Box, etc. [Here](https://www.rcsb.org/structure/1A57) is the link to 1a57. Click download files, then download to PDB format. Then as we had navigated through the Jupyterhub directories before, be sure to upload the .pdb to the same folder this program is within."
   ]
  }
 ],
 "metadata": {
  "colab": {
   "provenance": []
  },
  "kernelspec": {
   "display_name": "Python 3 (ipykernel)",
   "language": "python",
   "name": "python3"
  },
  "language_info": {
   "codemirror_mode": {
    "name": "ipython",
    "version": 3
   },
   "file_extension": ".py",
   "mimetype": "text/x-python",
   "name": "python",
   "nbconvert_exporter": "python",
   "pygments_lexer": "ipython3",
   "version": "3.9.7"
  }
 },
 "nbformat": 4,
 "nbformat_minor": 1
}
