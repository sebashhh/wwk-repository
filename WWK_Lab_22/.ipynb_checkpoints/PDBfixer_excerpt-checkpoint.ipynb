{
 "cells": [
  {
   "cell_type": "markdown",
   "metadata": {},
   "source": [
    "# PDB fixer excerpt that gets rogue PDB files working working\n",
    "Note you need to change the filename in THREE places for each new protein structure\n",
    "\n",
    "pdbfixer fixes issues with missing residues, missing H atoms, and adds in solvent\n"
   ]
  },
  {
   "cell_type": "code",
   "execution_count": 6,
   "metadata": {},
   "outputs": [
    {
     "ename": "NameError",
     "evalue": "name 'PDBFile' is not defined",
     "output_type": "error",
     "traceback": [
      "\u001b[1;31m---------------------------------------------------------------------------\u001b[0m",
      "\u001b[1;31mNameError\u001b[0m                                 Traceback (most recent call last)",
      "\u001b[1;32m~\\AppData\\Local\\Temp/ipykernel_13564/213558571.py\u001b[0m in \u001b[0;36m<module>\u001b[1;34m\u001b[0m\n\u001b[0;32m     12\u001b[0m \u001b[0mfixer\u001b[0m\u001b[1;33m.\u001b[0m\u001b[0maddMissingHydrogens\u001b[0m\u001b[1;33m(\u001b[0m\u001b[1;36m7.0\u001b[0m\u001b[1;33m)\u001b[0m\u001b[1;33m\u001b[0m\u001b[1;33m\u001b[0m\u001b[0m\n\u001b[0;32m     13\u001b[0m \u001b[1;31m# fixer.addSolvent(fixer.topology.getUnitCellDimensions(), positiveIon='Na+', negativeIon='Cl-', ionicStrength=0.0*molar)\u001b[0m\u001b[1;33m\u001b[0m\u001b[1;33m\u001b[0m\u001b[1;33m\u001b[0m\u001b[0m\n\u001b[1;32m---> 14\u001b[1;33m \u001b[0mPDBFile\u001b[0m\u001b[1;33m.\u001b[0m\u001b[0mwriteFile\u001b[0m\u001b[1;33m(\u001b[0m\u001b[0mfixer\u001b[0m\u001b[1;33m.\u001b[0m\u001b[0mtopology\u001b[0m\u001b[1;33m,\u001b[0m \u001b[0mfixer\u001b[0m\u001b[1;33m.\u001b[0m\u001b[0mpositions\u001b[0m\u001b[1;33m,\u001b[0m \u001b[0mopen\u001b[0m\u001b[1;33m(\u001b[0m\u001b[1;34m'1ubq.pdb'\u001b[0m\u001b[1;33m,\u001b[0m \u001b[1;34m'w'\u001b[0m\u001b[1;33m)\u001b[0m\u001b[1;33m)\u001b[0m\u001b[1;33m\u001b[0m\u001b[1;33m\u001b[0m\u001b[0m\n\u001b[0m\u001b[0;32m     15\u001b[0m \u001b[0mprint\u001b[0m\u001b[1;33m(\u001b[0m\u001b[1;34m'Done writing fixed PDB'\u001b[0m\u001b[1;33m)\u001b[0m\u001b[1;33m\u001b[0m\u001b[1;33m\u001b[0m\u001b[0m\n\u001b[0;32m     16\u001b[0m \u001b[0mprint\u001b[0m\u001b[1;33m(\u001b[0m\u001b[1;34m'Done adding solvent'\u001b[0m\u001b[1;33m)\u001b[0m\u001b[1;33m\u001b[0m\u001b[1;33m\u001b[0m\u001b[0m\n",
      "\u001b[1;31mNameError\u001b[0m: name 'PDBFile' is not defined"
     ]
    }
   ],
   "source": [
    "from pdbfixer import PDBFixer\n",
    "from simtk.openmm.app import PDBFile\n",
    "fixer = PDBFixer(filename='1ubq.pdb')\n",
    "numChains = len(list(fixer.topology.chains()))  #these two lines remove all chains but the first\n",
    "fixer.removeChains(range(1, numChains)) #these two lines remove all chains but the first\n",
    "fixer.findMissingResidues()\n",
    "fixer.findNonstandardResidues()\n",
    "fixer.replaceNonstandardResidues()\n",
    "fixer.removeHeterogens(False)  #the \"false\" also removes waters\n",
    "fixer.findMissingAtoms()\n",
    "fixer.addMissingAtoms()\n",
    "#changed to 9.0\n",
    "fixer.addMissingHydrogens(7.0)\n",
    "# fixer.addSolvent(fixer.topology.getUnitCellDimensions(), positiveIon='Na+', negativeIon='Cl-', ionicStrength=0.0*molar)\n",
    "PDBFile.writeFile(fixer.topology, fixer.positions, open('1ubq.pdb', 'w'))\n",
    "print('Done writing fixed PDB')\n",
    "print('Done adding solvent')"
   ]
  },
  {
   "cell_type": "markdown",
   "metadata": {},
   "source": [
    "This bit of code will show you if there are any residues that are undefined in the forcefield (like Na+ or Cl- have been problematic in the past)\n",
    "NOTE:   the forcefields for ions are in the amber14/tip3p.xml water model forcefield.  If you just use \"tip3p.xml\" it WON'T WORK! OpenMM manual mentions this..."
   ]
  },
  {
   "cell_type": "code",
   "execution_count": 3,
   "metadata": {},
   "outputs": [
    {
     "ename": "NameError",
     "evalue": "name 'PDBFile' is not defined",
     "output_type": "error",
     "traceback": [
      "\u001b[1;31m---------------------------------------------------------------------------\u001b[0m",
      "\u001b[1;31mNameError\u001b[0m                                 Traceback (most recent call last)",
      "\u001b[1;32m~\\AppData\\Local\\Temp/ipykernel_13564/2954130048.py\u001b[0m in \u001b[0;36m<module>\u001b[1;34m\u001b[0m\n\u001b[1;32m----> 1\u001b[1;33m \u001b[0mpdb\u001b[0m \u001b[1;33m=\u001b[0m \u001b[0mPDBFile\u001b[0m\u001b[1;33m(\u001b[0m\u001b[1;34m'1ubq.pdb'\u001b[0m\u001b[1;33m)\u001b[0m\u001b[1;33m\u001b[0m\u001b[1;33m\u001b[0m\u001b[0m\n\u001b[0m\u001b[0;32m      2\u001b[0m \u001b[0mforcefield\u001b[0m \u001b[1;33m=\u001b[0m \u001b[0mForceField\u001b[0m\u001b[1;33m(\u001b[0m\u001b[1;34m'amber14-all.xml'\u001b[0m\u001b[1;33m,\u001b[0m \u001b[1;34m'amber14/tip3p.xml'\u001b[0m\u001b[1;33m)\u001b[0m\u001b[1;33m\u001b[0m\u001b[1;33m\u001b[0m\u001b[0m\n\u001b[0;32m      3\u001b[0m \u001b[0munmatched_residues\u001b[0m \u001b[1;33m=\u001b[0m \u001b[0mforcefield\u001b[0m\u001b[1;33m.\u001b[0m\u001b[0mgetUnmatchedResidues\u001b[0m\u001b[1;33m(\u001b[0m\u001b[0mpdb\u001b[0m\u001b[1;33m.\u001b[0m\u001b[0mtopology\u001b[0m\u001b[1;33m)\u001b[0m\u001b[1;33m\u001b[0m\u001b[1;33m\u001b[0m\u001b[0m\n\u001b[0;32m      4\u001b[0m \u001b[0mprint\u001b[0m\u001b[1;33m(\u001b[0m\u001b[0munmatched_residues\u001b[0m\u001b[1;33m)\u001b[0m   \u001b[1;31m#check to see if there are any unmatched residues (e.g. ions) not in the forcefield\u001b[0m\u001b[1;33m\u001b[0m\u001b[1;33m\u001b[0m\u001b[0m\n\u001b[0;32m      5\u001b[0m \u001b[0mmodeller\u001b[0m \u001b[1;33m=\u001b[0m \u001b[0mModeller\u001b[0m\u001b[1;33m(\u001b[0m\u001b[0mpdb\u001b[0m\u001b[1;33m.\u001b[0m\u001b[0mtopology\u001b[0m\u001b[1;33m,\u001b[0m \u001b[0mpdb\u001b[0m\u001b[1;33m.\u001b[0m\u001b[0mpositions\u001b[0m\u001b[1;33m)\u001b[0m\u001b[1;33m\u001b[0m\u001b[1;33m\u001b[0m\u001b[0m\n",
      "\u001b[1;31mNameError\u001b[0m: name 'PDBFile' is not defined"
     ]
    }
   ],
   "source": [
    "pdb = PDBFile('1ubq.pdb')\n",
    "forcefield = ForceField('amber14-all.xml', 'amber14/tip3p.xml')\n",
    "unmatched_residues = forcefield.getUnmatchedResidues(pdb.topology)\n",
    "print(unmatched_residues)   #check to see if there are any unmatched residues (e.g. ions) not in the forcefield\n",
    "modeller = Modeller(pdb.topology, pdb.positions)\n",
    "print(modeller.topology)"
   ]
  },
  {
   "cell_type": "markdown",
   "metadata": {},
   "source": [
    "Now after this you can insert your cells for minimizing, equilibration and simulation."
   ]
  }
 ],
 "metadata": {
  "kernelspec": {
   "display_name": "Python 3 (ipykernel)",
   "language": "python",
   "name": "python3"
  },
  "language_info": {
   "codemirror_mode": {
    "name": "ipython",
    "version": 3
   },
   "file_extension": ".py",
   "mimetype": "text/x-python",
   "name": "python",
   "nbconvert_exporter": "python",
   "pygments_lexer": "ipython3",
   "version": "3.8.12"
  }
 },
 "nbformat": 4,
 "nbformat_minor": 2
}
