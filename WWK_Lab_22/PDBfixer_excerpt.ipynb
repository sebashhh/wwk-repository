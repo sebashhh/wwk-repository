{
 "cells": [
  {
   "cell_type": "code",
   "execution_count": 9,
   "metadata": {},
   "outputs": [
    {
     "name": "stdout",
     "output_type": "stream",
     "text": [
      "Done writing fixed PDB\n",
      "Done adding solvent\n"
     ]
    }
   ],
   "source": [
    "from pdbfixer import PDBFixer\n",
    "from simtk.openmm.app import PDBFile\n",
    "the_file = '1ubq.pdb'\n",
    "fixer = PDBFixer(filename= the_file)\n",
    "numChains = len(list(fixer.topology.chains()))  #these two lines remove all chains but the first\n",
    "fixer.removeChains(range(1, numChains)) #these two lines remove all chains but the first\n",
    "fixer.findMissingResidues()\n",
    "fixer.findNonstandardResidues()\n",
    "fixer.replaceNonstandardResidues()\n",
    "fixer.removeHeterogens(False)  #the \"false\" also removes waters\n",
    "fixer.findMissingAtoms()\n",
    "fixer.addMissingAtoms()\n",
    "#changed to 9.0\n",
    "fixer.addMissingHydrogens(7.0)\n",
    "# fixer.addSolvent(fixer.topology.getUnitCellDimensions(), positiveIon='Na+', negativeIon='Cl-', ionicStrength=0.0*molar)\n",
    "PDBFile.writeFile(fixer.topology, fixer.positions, open(the_file, 'w'))\n",
    "print('Done writing fixed PDB')\n",
    "print('Done adding solvent')"
   ]
  },
  {
   "cell_type": "code",
   "execution_count": 10,
   "metadata": {},
   "outputs": [
    {
     "ename": "NameError",
     "evalue": "name 'ForceField' is not defined",
     "output_type": "error",
     "traceback": [
      "\u001b[1;31m---------------------------------------------------------------------------\u001b[0m",
      "\u001b[1;31mNameError\u001b[0m                                 Traceback (most recent call last)",
      "\u001b[1;32m~\\AppData\\Local\\Temp/ipykernel_13564/410656343.py\u001b[0m in \u001b[0;36m<module>\u001b[1;34m\u001b[0m\n\u001b[0;32m      1\u001b[0m \u001b[0mpdb\u001b[0m \u001b[1;33m=\u001b[0m \u001b[0mPDBFile\u001b[0m\u001b[1;33m(\u001b[0m\u001b[0mthe_file\u001b[0m\u001b[1;33m)\u001b[0m\u001b[1;33m\u001b[0m\u001b[1;33m\u001b[0m\u001b[0m\n\u001b[1;32m----> 2\u001b[1;33m \u001b[0mforcefield\u001b[0m \u001b[1;33m=\u001b[0m \u001b[0mForceField\u001b[0m\u001b[1;33m(\u001b[0m\u001b[1;34m'amber14-all.xml'\u001b[0m\u001b[1;33m,\u001b[0m \u001b[1;34m'amber14/tip3p.xml'\u001b[0m\u001b[1;33m)\u001b[0m\u001b[1;33m\u001b[0m\u001b[1;33m\u001b[0m\u001b[0m\n\u001b[0m\u001b[0;32m      3\u001b[0m \u001b[0munmatched_residues\u001b[0m \u001b[1;33m=\u001b[0m \u001b[0mforcefield\u001b[0m\u001b[1;33m.\u001b[0m\u001b[0mgetUnmatchedResidues\u001b[0m\u001b[1;33m(\u001b[0m\u001b[0mpdb\u001b[0m\u001b[1;33m.\u001b[0m\u001b[0mtopology\u001b[0m\u001b[1;33m)\u001b[0m\u001b[1;33m\u001b[0m\u001b[1;33m\u001b[0m\u001b[0m\n\u001b[0;32m      4\u001b[0m \u001b[0mprint\u001b[0m\u001b[1;33m(\u001b[0m\u001b[0munmatched_residues\u001b[0m\u001b[1;33m)\u001b[0m   \u001b[1;31m#check to see if there are any unmatched residues (e.g. ions) not in the forcefield\u001b[0m\u001b[1;33m\u001b[0m\u001b[1;33m\u001b[0m\u001b[0m\n\u001b[0;32m      5\u001b[0m \u001b[0mmodeller\u001b[0m \u001b[1;33m=\u001b[0m \u001b[0mModeller\u001b[0m\u001b[1;33m(\u001b[0m\u001b[0mpdb\u001b[0m\u001b[1;33m.\u001b[0m\u001b[0mtopology\u001b[0m\u001b[1;33m,\u001b[0m \u001b[0mpdb\u001b[0m\u001b[1;33m.\u001b[0m\u001b[0mpositions\u001b[0m\u001b[1;33m)\u001b[0m\u001b[1;33m\u001b[0m\u001b[1;33m\u001b[0m\u001b[0m\n",
      "\u001b[1;31mNameError\u001b[0m: name 'ForceField' is not defined"
     ]
    }
   ],
   "source": [
    "pdb = PDBFile(the_file)\n",
    "forcefield = ForceField('amber14-all.xml', 'amber14/tip3p.xml')\n",
    "unmatched_residues = forcefield.getUnmatchedResidues(pdb.topology)\n",
    "print(unmatched_residues)   #check to see if there are any unmatched residues (e.g. ions) not in the forcefield\n",
    "modeller = Modeller(pdb.topology, pdb.positions)\n",
    "print(modeller.topology)"
   ]
  },
  {
   "cell_type": "markdown",
   "metadata": {},
   "source": [
    "Now after this you can insert your cells for minimizing, equilibration and simulation."
   ]
  }
 ],
 "metadata": {
  "kernelspec": {
   "display_name": "Python 3 (ipykernel)",
   "language": "python",
   "name": "python3"
  },
  "language_info": {
   "codemirror_mode": {
    "name": "ipython",
    "version": 3
   },
   "file_extension": ".py",
   "mimetype": "text/x-python",
   "name": "python",
   "nbconvert_exporter": "python",
   "pygments_lexer": "ipython3",
   "version": "3.8.12"
  }
 },
 "nbformat": 4,
 "nbformat_minor": 2
}
